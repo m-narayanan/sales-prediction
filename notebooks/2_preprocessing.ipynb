{
 "cells": [
  {
   "cell_type": "markdown",
   "metadata": {},
   "source": [
    "# Preprocessing Notebook\n",
    "### Feature Engineering and Data Preparation\n"
   ]
  },
  {
   "cell_type": "code",
   "execution_count": 2,
   "metadata": {},
   "outputs": [],
   "source": [
    "import pandas as pd\n",
    "from sklearn.preprocessing import StandardScaler, OneHotEncoder\n",
    "from sklearn.compose import ColumnTransformer\n",
    "from sklearn.model_selection import train_test_split\n",
    "import numpy as np\n",
    "\n",
    "\n",
    "# Load data\n",
    "df = pd.read_csv('../data/car_purchasing.csv', encoding='ISO-8859-1')"
   ]
  },
  {
   "cell_type": "code",
   "execution_count": 3,
   "metadata": {},
   "outputs": [],
   "source": [
    "# Feature engineering\n",
    "df['debt_to_income'] = df['credit card debt'] / df['annual Salary']\n",
    "df['net_worth_tier'] = pd.qcut(df['net worth'], \n",
    "                              q=[0, 0.3, 0.7, 1],\n",
    "                              labels=['Low', 'Medium', 'High'])\n",
    "\n",
    "\n",
    "# Encode categorical features\n",
    "preprocessor = ColumnTransformer(\n",
    "    transformers=[\n",
    "        ('num', StandardScaler(), ['age', 'annual Salary', 'credit card debt', 'net worth', 'debt_to_income']),\n",
    "        ('cat', OneHotEncoder(handle_unknown='ignore'), ['country', 'gender', 'net_worth_tier'])\n",
    "    ])"
   ]
  },
  {
   "cell_type": "code",
   "execution_count": 4,
   "metadata": {},
   "outputs": [],
   "source": [
    "# Prepare data\n",
    "X = df.drop('car purchase amount', axis=1)\n",
    "y = df['car purchase amount']\n",
    "\n",
    "\n",
    "# Split data\n",
    "X_train, X_test, y_train, y_test = train_test_split(\n",
    "    X, y, test_size=0.2, random_state=42)\n",
    "\n",
    "\n",
    "# Apply transformations\n",
    "X_train_transformed = preprocessor.fit_transform(X_train)\n",
    "X_test_transformed = preprocessor.transform(X_test)\n",
    "\n",
    "\n",
    "# Get feature names\n",
    "cat_features = preprocessor.named_transformers_['cat'].get_feature_names_out()\n",
    "num_features = ['age', 'annual Salary', 'credit card debt', 'net worth', 'debt_to_income']\n",
    "all_features = np.concatenate([num_features, cat_features])"
   ]
  },
  {
   "cell_type": "code",
   "execution_count": 6,
   "metadata": {},
   "outputs": [],
   "source": [
    "# Save processed data (including target)\n",
    "full_processed = pd.DataFrame(\n",
    "    X_train_transformed.toarray(),  # Convert sparse matrix to dense array\n",
    "    columns=all_features\n",
    ")\n",
    "full_processed['car purchase amount'] = y_train.values\n",
    "\n",
    "# Save single file with all processed data\n",
    "full_processed.to_csv('../data/processed_train.csv', index=False)"
   ]
  }
 ],
 "metadata": {
  "kernelspec": {
   "display_name": "base",
   "language": "python",
   "name": "python3"
  },
  "language_info": {
   "codemirror_mode": {
    "name": "ipython",
    "version": 3
   },
   "file_extension": ".py",
   "mimetype": "text/x-python",
   "name": "python",
   "nbconvert_exporter": "python",
   "pygments_lexer": "ipython3",
   "version": "3.12.3"
  }
 },
 "nbformat": 4,
 "nbformat_minor": 4
}

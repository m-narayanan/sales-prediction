{
 "cells": [
  {
   "cell_type": "markdown",
   "metadata": {},
   "source": [
    "# Model Training Notebook\n",
    "### Model Development and Evaluation"
   ]
  },
  {
   "cell_type": "code",
   "execution_count": 135,
   "metadata": {},
   "outputs": [],
   "source": [
    "import os\n",
    "import numpy as np\n",
    "import pandas as pd\n",
    "import matplotlib.pyplot as plt\n",
    "import seaborn as sns\n",
    "import shap\n",
    "import joblib\n",
    "from sklearn.model_selection import train_test_split, cross_val_score\n",
    "from sklearn.metrics import r2_score, mean_absolute_error, mean_squared_error\n",
    "from sklearn.linear_model import LinearRegression\n",
    "from sklearn.tree import DecisionTreeRegressor\n",
    "from sklearn.ensemble import RandomForestRegressor\n",
    "from xgboost import XGBRegressor\n",
    "from sklearn.neural_network import MLPRegressor\n",
    "from sklearn.cluster import KMeans\n",
    "from sklearn.preprocessing import StandardScaler\n",
    "from sklearn.pipeline import make_pipeline\n",
    "\n",
    "RANDOM_STATE = 42\n",
    "np.random.seed(RANDOM_STATE)"
   ]
  },
  {
   "cell_type": "code",
   "execution_count": 136,
   "metadata": {},
   "outputs": [
    {
     "name": "stdout",
     "output_type": "stream",
     "text": [
      " Data loaded successfully\n",
      "Train shape: (400, 204), Test shape: (100, 204)\n"
     ]
    }
   ],
   "source": [
    "# Load and split data\n",
    "def load_processed_data():\n",
    "    \"\"\"Load and verify processed datasets\"\"\"\n",
    "    try:\n",
    "        X_train = pd.read_csv('../data/X_train_processed.csv')\n",
    "        X_test = pd.read_csv('../data/X_test_processed.csv')\n",
    "        y_train = pd.read_csv('../data/y_train.csv').values.ravel()\n",
    "        y_test = pd.read_csv('../data/y_test.csv').values.ravel()\n",
    "        original_df = pd.read_csv('../data/car_purchasing.csv', encoding='ISO-8859-1')\n",
    "        \n",
    "        print(\" Data loaded successfully\")\n",
    "        print(f\"Train shape: {X_train.shape}, Test shape: {X_test.shape}\")\n",
    "        return X_train, X_test, y_train, y_test, original_df\n",
    "    \n",
    "    except FileNotFoundError as e:\n",
    "        print(f\" Error: {e}\")\n",
    "        print(\"Run preprocessing notebook first!\")\n",
    "        raise\n",
    "\n",
    "X_train, X_test, y_train, y_test, original_df = load_processed_data()\n"
   ]
  },
  {
   "cell_type": "code",
   "execution_count": 137,
   "metadata": {},
   "outputs": [],
   "source": [
    "def remove_outliers(X, y):\n",
    "    \"\"\"Remove outliers using Z-score filtering with a more lenient threshold\"\"\"\n",
    "    z_scores = np.abs((X - X.mean()) / X.std())\n",
    "    outlier_mask = (z_scores < 5).all(axis=1)  # Increased threshold from 3 to 5\n",
    "    filtered_X = X[outlier_mask]\n",
    "    filtered_y = y[outlier_mask]\n",
    "    \n",
    "    if len(filtered_X) == 0:\n",
    "        print(\" Warning: All data points were considered outliers. Using original data.\")\n",
    "        return X, y\n",
    "    return filtered_X, filtered_y"
   ]
  },
  {
   "cell_type": "code",
   "execution_count": 138,
   "metadata": {},
   "outputs": [],
   "source": [
    "models = {\n",
    "    'Linear Regression': make_pipeline(\n",
    "        StandardScaler(),\n",
    "        LinearRegression()\n",
    "    ),\n",
    "    'Decision Tree': DecisionTreeRegressor(\n",
    "        max_depth=5,\n",
    "        random_state=RANDOM_STATE\n",
    "    ),\n",
    "    'Random Forest': RandomForestRegressor(\n",
    "        n_estimators=100,\n",
    "        random_state=RANDOM_STATE,\n",
    "        n_jobs=-1\n",
    "    ),\n",
    "    'XGBoost': XGBRegressor(\n",
    "        n_estimators=100,\n",
    "        random_state=RANDOM_STATE\n",
    "    ),\n",
    "    'Neural Network': make_pipeline(\n",
    "        StandardScaler(),\n",
    "        MLPRegressor(\n",
    "            hidden_layer_sizes=(100, 50),\n",
    "            max_iter=1000,\n",
    "            early_stopping=True,\n",
    "            random_state=RANDOM_STATE\n",
    "        )\n",
    "    )\n",
    "}\n"
   ]
  },
  {
   "cell_type": "code",
   "execution_count": 139,
   "metadata": {},
   "outputs": [
    {
     "name": "stdout",
     "output_type": "stream",
     "text": [
      "\n",
      " Training Models:\n",
      " Linear Regression | R²: -777330423364793.125\n",
      " Decision Tree   | R²: 0.729\n",
      " Random Forest   | R²: 0.948\n",
      " XGBoost         | R²: 0.955\n",
      " Neural Network  | R²: -0.613\n",
      "\n",
      "📊 Final Performance:\n",
      "               Model            R²           MAE          RMSE\n",
      "3            XGBoost  9.547906e-01  1.609642e+03  2.209389e+03\n",
      "2      Random Forest  9.479975e-01  1.643472e+03  2.369573e+03\n",
      "1      Decision Tree  7.286662e-01  4.386714e+03  5.412649e+03\n",
      "4     Neural Network -6.131107e-01  7.869651e+03  1.319745e+04\n",
      "0  Linear Regression -7.773304e+14  1.327610e+11  2.897082e+11\n"
     ]
    },
    {
     "name": "stderr",
     "output_type": "stream",
     "text": [
      "c:\\Users\\nxyan\\miniconda3\\Lib\\site-packages\\sklearn\\neural_network\\_multilayer_perceptron.py:690: ConvergenceWarning: Stochastic Optimizer: Maximum iterations (1000) reached and the optimization hasn't converged yet.\n",
      "  warnings.warn(\n"
     ]
    }
   ],
   "source": [
    "results = []\n",
    "print(\"\\n Training Models:\")\n",
    "for name, model in models.items():\n",
    "    try:\n",
    "        # Training\n",
    "        model.fit(X_train_clean, y_train_clean)\n",
    "        \n",
    "        # Evaluation\n",
    "        y_pred = model.predict(X_test)\n",
    "        metrics = {\n",
    "            'Model': name,\n",
    "            'R²': r2_score(y_test, y_pred),\n",
    "            'MAE': mean_absolute_error(y_test, y_pred),\n",
    "            'RMSE': np.sqrt(mean_squared_error(y_test, y_pred))\n",
    "        }\n",
    "        results.append(metrics)\n",
    "        print(f\" {name:15} | R²: {metrics['R²']:.3f}\")\n",
    "        \n",
    "    except Exception as e:\n",
    "        print(f\" {name:15} | Error: {str(e)}\")\n",
    "\n",
    "results_df = pd.DataFrame(results)\n",
    "print(\"\\n📊 Final Performance:\")\n",
    "print(results_df.sort_values('R²', ascending=False))"
   ]
  },
  {
   "cell_type": "code",
   "execution_count": 140,
   "metadata": {},
   "outputs": [
    {
     "name": "stdout",
     "output_type": "stream",
     "text": [
      "\n",
      " Cross-Validation Results:\n",
      "Linear Regression | CV R²: -22770434587662450688.000 ± 17934942749649610752.000\n",
      "Decision Tree   | CV R²: 0.703 ± 0.047\n",
      "Random Forest   | CV R²: 0.923 ± 0.021\n",
      "XGBoost         | CV R²: 0.928 ± 0.013\n",
      "Neural Network  | CV R²: -0.165 ± 0.409\n"
     ]
    }
   ],
   "source": [
    "print(\"\\n Cross-Validation Results:\")\n",
    "cv_results = []\n",
    "for name, model in models.items():\n",
    "    try:\n",
    "        scores = cross_val_score(\n",
    "            model, X_train_clean, y_train_clean,\n",
    "            cv=5, scoring='r2', n_jobs=-1\n",
    "        )\n",
    "        cv_results.append({\n",
    "            'Model': name,\n",
    "            'CV R² Mean': scores.mean(),\n",
    "            'CV R² Std': scores.std()\n",
    "        })\n",
    "        print(f\"{name:15} | CV R²: {scores.mean():.3f} ± {scores.std():.3f}\")\n",
    "    except Exception as e:\n",
    "        print(f\" {name:15} | CV Error: {str(e)}\")\n",
    "\n",
    "cv_df = pd.DataFrame(cv_results)\n"
   ]
  },
  {
   "cell_type": "code",
   "execution_count": 141,
   "metadata": {},
   "outputs": [],
   "source": [
    "plt.figure(figsize=(12, 6))\n",
    "sns.barplot(x='Model', y='R²', data=results_df)\n",
    "plt.title('Model Comparison: R² Scores')\n",
    "plt.xticks(rotation=45)\n",
    "plt.ylim(0, 1)\n",
    "plt.tight_layout()\n",
    "plt.savefig('../reports/figures/model_r2_scores.png', dpi=300)\n",
    "plt.close()\n"
   ]
  },
  {
   "cell_type": "code",
   "execution_count": 142,
   "metadata": {},
   "outputs": [
    {
     "name": "stdout",
     "output_type": "stream",
     "text": [
      " Warning: All data points were considered outliers. Using original data.\n",
      "\n",
      "👥 Customer Segmentation...\n"
     ]
    }
   ],
   "source": [
    "# Apply outlier removal\n",
    "X_train_clean, y_train_clean = remove_outliers(X_train, y_train)\n",
    "\n",
    "# K-means clustering\n",
    "print(\"\\n👥 Customer Segmentation...\")\n",
    "scaled_features = StandardScaler().fit_transform(X_train_clean[['annual Salary', 'net worth']])\n",
    "kmeans = KMeans(n_clusters=4, random_state=RANDOM_STATE)\n",
    "clusters = kmeans.fit_predict(scaled_features)\n",
    "\n",
    "# Visualization\n",
    "plt.figure(figsize=(12, 6))\n",
    "sns.scatterplot(\n",
    "    x=X_train_clean['annual Salary'],\n",
    "    y=X_train_clean['net worth'],\n",
    "    hue=clusters,\n",
    "    palette='viridis',\n",
    "    alpha=0.7\n",
    ")\n",
    "plt.scatter(\n",
    "    kmeans.cluster_centers_[:, 0],\n",
    "    kmeans.cluster_centers_[:, 1],\n",
    "    s=300, c='red', marker='X'\n",
    ")\n",
    "plt.title('Customer Segmentation by Financial Features')\n",
    "plt.xlabel('Annual Salary')\n",
    "plt.ylabel('Net Worth')\n",
    "plt.savefig('../reports/figures/customer_segmentation.png', dpi=300)\n",
    "plt.close()\n"
   ]
  },
  {
   "cell_type": "code",
   "execution_count": 143,
   "metadata": {},
   "outputs": [
    {
     "name": "stdout",
     "output_type": "stream",
     "text": [
      "\n",
      " SHAP Analysis for Best Model...\n"
     ]
    },
    {
     "name": "stderr",
     "output_type": "stream",
     "text": [
      "C:\\Users\\nxyan\\AppData\\Local\\Temp\\ipykernel_3940\\995591353.py:8: FutureWarning: The NumPy global RNG was seeded by calling `np.random.seed`. In a future version this function will no longer use the global RNG. Pass `rng` explicitly to opt-in to the new behaviour and silence this warning.\n",
      "  shap.summary_plot(shap_values, X_test, plot_type='bar', show=False)\n"
     ]
    }
   ],
   "source": [
    "# SHAP values for best model\n",
    "print(\"\\n SHAP Analysis for Best Model...\")\n",
    "best_model = models['XGBoost']  # Based on previous results\n",
    "explainer = shap.TreeExplainer(best_model)\n",
    "shap_values = explainer.shap_values(X_test)\n",
    "\n",
    "plt.figure(figsize=(12, 6))\n",
    "shap.summary_plot(shap_values, X_test, plot_type='bar', show=False)\n",
    "plt.title('Feature Importance (SHAP Values)')\n",
    "plt.tight_layout()\n",
    "plt.savefig('../reports/figures/shap_feature_importance.png', dpi=300)\n",
    "plt.close()"
   ]
  },
  {
   "cell_type": "code",
   "execution_count": 144,
   "metadata": {},
   "outputs": [
    {
     "name": "stdout",
     "output_type": "stream",
     "text": [
      "\n",
      " Geographic Purchase Patterns...\n"
     ]
    }
   ],
   "source": [
    "\n",
    "# [Geographic Analysis]\n",
    "print(\"\\n Geographic Purchase Patterns...\")\n",
    "original_df['Cluster'] = kmeans.predict(\n",
    "    StandardScaler().fit_transform(original_df[['annual Salary', 'net worth']])\n",
    ")\n",
    "\n",
    "plt.figure(figsize=(16, 8))\n",
    "sns.barplot(\n",
    "    x='country',\n",
    "    y='car purchase amount',\n",
    "    data=original_df,\n",
    "    estimator=np.median,\n",
    "    errorbar=None,\n",
    "    hue='country',\n",
    "    legend=False\n",
    ")\n",
    "plt.xticks(rotation=90)\n",
    "plt.title('Median Car Purchase Amount by Country')\n",
    "plt.tight_layout()\n",
    "plt.savefig('../reports/figures/geo_purchase_patterns.png', dpi=300)\n",
    "plt.close()\n"
   ]
  },
  {
   "cell_type": "code",
   "execution_count": 145,
   "metadata": {},
   "outputs": [
    {
     "name": "stdout",
     "output_type": "stream",
     "text": [
      "\n",
      " Saving Best Model...\n",
      " Model saved to models/best_xgboost_model.pkl\n"
     ]
    }
   ],
   "source": [
    "# Save Best Model\n",
    "print(\"\\n Saving Best Model...\")\n",
    "joblib.dump(best_model, '../models/best_xgboost_model.pkl')\n",
    "print(\" Model saved to models/best_xgboost_model.pkl\")\n",
    "\n",
    "\n"
   ]
  },
  {
   "cell_type": "code",
   "execution_count": 146,
   "metadata": {},
   "outputs": [
    {
     "name": "stdout",
     "output_type": "stream",
     "text": [
      "\n",
      " Training Complete!\n",
      " Generated Files:\n",
      " - Model performance charts: reports/figures/\n",
      " - Saved model: models/best_xgboost_model.pkl\n"
     ]
    }
   ],
   "source": [
    "# %% [Final Report]\n",
    "print(\"\\n Training Complete!\")\n",
    "print(\" Generated Files:\")\n",
    "print(f\" - Model performance charts: reports/figures/\")\n",
    "print(f\" - Saved model: models/best_xgboost_model.pkl\")"
   ]
  },
  {
   "cell_type": "code",
   "execution_count": null,
   "metadata": {},
   "outputs": [],
   "source": []
  }
 ],
 "metadata": {
  "kernelspec": {
   "display_name": "base",
   "language": "python",
   "name": "python3"
  },
  "language_info": {
   "codemirror_mode": {
    "name": "ipython",
    "version": 3
   },
   "file_extension": ".py",
   "mimetype": "text/x-python",
   "name": "python",
   "nbconvert_exporter": "python",
   "pygments_lexer": "ipython3",
   "version": "3.12.3"
  }
 },
 "nbformat": 4,
 "nbformat_minor": 4
}
